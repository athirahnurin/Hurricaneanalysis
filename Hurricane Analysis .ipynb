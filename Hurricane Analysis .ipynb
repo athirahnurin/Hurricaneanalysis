{
 "cells": [
  {
   "cell_type": "code",
   "execution_count": 1,
   "metadata": {},
   "outputs": [],
   "source": [
    "# names of hurricanes\n",
    "names = ['Cuba I', 'San Felipe II Okeechobee', 'Bahamas', 'Cuba II', 'CubaBrownsville', 'Tampico', 'Labor Day', 'New England', 'Carol', 'Janet', 'Carla', 'Hattie', 'Beulah', 'Camille', 'Edith', 'Anita', 'David', 'Allen', 'Gilbert', 'Hugo', 'Andrew', 'Mitch', 'Isabel', 'Ivan', 'Emily', 'Katrina', 'Rita', 'Wilma', 'Dean', 'Felix', 'Matthew', 'Irma', 'Maria', 'Michael']\n",
    "\n",
    "# months of hurricanes\n",
    "months = ['October', 'September', 'September', 'November', 'August', 'September', 'September', 'September', 'September', 'September', 'September', 'October', 'September', 'August', 'September', 'September', 'August', 'August', 'September', 'September', 'August', 'October', 'September', 'September', 'July', 'August', 'September', 'October', 'August', 'September', 'October', 'September', 'September', 'October']\n",
    "\n",
    "# years of hurricanes\n",
    "years = [1924, 1928, 1932, 1932, 1933, 1933, 1935, 1938, 1953, 1955, 1961, 1961, 1967, 1969, 1971, 1977, 1979, 1980, 1988, 1989, 1992, 1998, 2003, 2004, 2005, 2005, 2005, 2005, 2007, 2007, 2016, 2017, 2017, 2018]\n",
    "\n",
    "# maximum sustained winds (mph) of hurricanes\n",
    "max_sustained_winds = [165, 160, 160, 175, 160, 160, 185, 160, 160, 175, 175, 160, 160, 175, 160, 175, 175, 190, 185, 160, 175, 180, 165, 165, 160, 175, 180, 185, 175, 175, 165, 180, 175, 160]\n",
    "\n",
    "# areas affected by each hurricane\n",
    "areas_affected = [['Central America', 'Mexico', 'Cuba', 'Florida', 'The Bahamas'], ['Lesser Antilles', 'The Bahamas', 'United States East Coast', 'Atlantic Canada'], ['The Bahamas', 'Northeastern United States'], ['Lesser Antilles', 'Jamaica', 'Cayman Islands', 'Cuba', 'The Bahamas', 'Bermuda'], ['The Bahamas', 'Cuba', 'Florida', 'Texas', 'Tamaulipas'], ['Jamaica', 'Yucatn Peninsula'], ['The Bahamas', 'Florida', 'Georgia', 'The Carolinas', 'Virginia'], ['Southeastern United States', 'Northeastern United States', 'Southwestern Quebec'], ['Bermuda', 'New England', 'Atlantic Canada'], ['Lesser Antilles', 'Central America'], ['Texas', 'Louisiana', 'Midwestern United States'], ['Central America'], ['The Caribbean', 'Mexico', 'Texas'], ['Cuba', 'United States Gulf Coast'], ['The Caribbean', 'Central America', 'Mexico', 'United States Gulf Coast'], ['Mexico'], ['The Caribbean', 'United States East coast'], ['The Caribbean', 'Yucatn Peninsula', 'Mexico', 'South Texas'], ['Jamaica', 'Venezuela', 'Central America', 'Hispaniola', 'Mexico'], ['The Caribbean', 'United States East Coast'], ['The Bahamas', 'Florida', 'United States Gulf Coast'], ['Central America', 'Yucatn Peninsula', 'South Florida'], ['Greater Antilles', 'Bahamas', 'Eastern United States', 'Ontario'], ['The Caribbean', 'Venezuela', 'United States Gulf Coast'], ['Windward Islands', 'Jamaica', 'Mexico', 'Texas'], ['Bahamas', 'United States Gulf Coast'], ['Cuba', 'United States Gulf Coast'], ['Greater Antilles', 'Central America', 'Florida'], ['The Caribbean', 'Central America'], ['Nicaragua', 'Honduras'], ['Antilles', 'Venezuela', 'Colombia', 'United States East Coast', 'Atlantic Canada'], ['Cape Verde', 'The Caribbean', 'British Virgin Islands', 'U.S. Virgin Islands', 'Cuba', 'Florida'], ['Lesser Antilles', 'Virgin Islands', 'Puerto Rico', 'Dominican Republic', 'Turks and Caicos Islands'], ['Central America', 'United States Gulf Coast (especially Florida Panhandle)']]\n",
    "\n",
    "# damages (USD($)) of hurricanes\n",
    "damages = ['Damages not recorded', '100M', 'Damages not recorded', '40M', '27.9M', '5M', 'Damages not recorded', '306M', '2M', '65.8M', '326M', '60.3M', '208M', '1.42B', '25.4M', 'Damages not recorded', '1.54B', '1.24B', '7.1B', '10B', '26.5B', '6.2B', '5.37B', '23.3B', '1.01B', '125B', '12B', '29.4B', '1.76B', '720M', '15.1B', '64.8B', '91.6B', '25.1B']\n",
    "\n",
    "# deaths for each hurricane\n",
    "deaths = [90,4000,16,3103,179,184,408,682,5,1023,43,319,688,259,37,11,2068,269,318,107,65,19325,51,124,17,1836,125,87,45,133,603,138,3057,74]\n"
   ]
  },
  {
   "cell_type": "code",
   "execution_count": 2,
   "metadata": {},
   "outputs": [
    {
     "name": "stdout",
     "output_type": "stream",
     "text": [
      "['Damages not recorded', 10000000.0, 'Damages not recorded', 4000000.0, 2790000.0, 500000.0, 'Damages not recorded', 30600000.0, 200000.0, 6580000.0, 32600000.0, 6030000.0, 20800000.0, 1420000000.0, 2540000.0, 'Damages not recorded', 1540000000.0, 1240000000.0, 7100000000.0, 10000000000.0, 26500000000.0, 6200000000.0, 5370000000.0, 23300000000.0, 1010000000.0, 125000000000.0, 12000000000.0, 29400000000.0, 1760000000.0, 72000000.0, 15100000000.0, 64800000000.0, 91600000000.0, 25100000000.0]\n"
     ]
    }
   ],
   "source": [
    "updated_damages =[]\n",
    "for i in damages:\n",
    "    if i== 'Damages not recorded':\n",
    "        updated_damages.append(i)\n",
    "    if i[-1]=='M':\n",
    "        updated_damages.append(float(i.replace('M',''))*100000)\n",
    "    if i[-1]=='B':\n",
    "        updated_damages.append(float(i.replace('B',''))*1000000000)\n",
    "        \n",
    "print(updated_damages)\n",
    "    "
   ]
  },
  {
   "cell_type": "code",
   "execution_count": 3,
   "metadata": {},
   "outputs": [
    {
     "name": "stdout",
     "output_type": "stream",
     "text": [
      "{'Name': 'San Felipe II Okeechobee', 'Month': 'September', 'Year': 1928, 'Max Sustained Wind': 160, 'Areas Affected': ['Lesser Antilles', 'The Bahamas', 'United States East Coast', 'Atlantic Canada'], 'Damage': 10000000.0, 'Deaths': 4000}\n"
     ]
    }
   ],
   "source": [
    "def hurricanes(names,months,years,max_sustained_winds,areas_affected,deaths,updated_damages):\n",
    "    hurricanes={}\n",
    "    for i in range(len(names)):\n",
    "        hurricanes[names[i]] = ({\"Name\": names[i],\n",
    "                         \"Month\": months[i],\n",
    "                         \"Year\": years[i],\n",
    "                         \"Max Sustained Wind\": max_sustained_winds[i],\n",
    "                         \"Areas Affected\": areas_affected[i],\n",
    "                         \"Damage\": updated_damages[i],\n",
    "                         \"Deaths\": deaths[i]})\n",
    "    return hurricanes\n",
    "hurricanes = hurricanes(names,months,years,max_sustained_winds,\n",
    "                        areas_affected,deaths,updated_damages)\n",
    "\n",
    "print(hurricanes['San Felipe II Okeechobee'])                               "
   ]
  },
  {
   "cell_type": "code",
   "execution_count": 4,
   "metadata": {},
   "outputs": [
    {
     "name": "stdout",
     "output_type": "stream",
     "text": [
      "[{'Name': 'Bahamas', 'Month': 'September', 'Year': 1932, 'Max Sustained Wind': 160, 'Areas Affected': ['The Bahamas', 'Northeastern United States'], 'Damage': 'Damages not recorded', 'Deaths': 16}, {'Name': 'Cuba II', 'Month': 'November', 'Year': 1932, 'Max Sustained Wind': 175, 'Areas Affected': ['Lesser Antilles', 'Jamaica', 'Cayman Islands', 'Cuba', 'The Bahamas', 'Bermuda'], 'Damage': 4000000.0, 'Deaths': 3103}]\n"
     ]
    }
   ],
   "source": [
    "def hurr_by_year(hurricanes):\n",
    "    hurr_by_year={}\n",
    "    \n",
    "    for i in hurricanes:\n",
    "        year = hurricanes[i]['Year']\n",
    "        name = hurricanes[i]\n",
    "        \n",
    "        if year not in hurr_by_year:\n",
    "            hurr_by_year[year]=[name]\n",
    "        else:\n",
    "            hurr_by_year[year].append(name)\n",
    "                                     \n",
    "    return hurr_by_year\n",
    "\n",
    "hurr_by_year =  hurr_by_year(hurricanes)    \n",
    "\n",
    "print(hurr_by_year[1932])"
   ]
  },
  {
   "cell_type": "code",
   "execution_count": 5,
   "metadata": {},
   "outputs": [
    {
     "name": "stdout",
     "output_type": "stream",
     "text": [
      "{'Central America': 9, 'Mexico': 7, 'Cuba': 6, 'Florida': 6, 'The Bahamas': 7, 'Lesser Antilles': 4, 'United States East Coast': 3, 'Atlantic Canada': 3, 'Northeastern United States': 2, 'Jamaica': 4, 'Cayman Islands': 1, 'Bermuda': 2, 'Texas': 4, 'Tamaulipas': 1, 'Yucatn Peninsula': 3, 'Georgia': 1, 'The Carolinas': 1, 'Virginia': 1, 'Southeastern United States': 1, 'Southwestern Quebec': 1, 'New England': 1, 'Louisiana': 1, 'Midwestern United States': 1, 'The Caribbean': 8, 'United States Gulf Coast': 6, 'United States East coast': 1, 'South Texas': 1, 'Venezuela': 3, 'Hispaniola': 1, 'South Florida': 1, 'Greater Antilles': 2, 'Bahamas': 2, 'Eastern United States': 1, 'Ontario': 1, 'Windward Islands': 1, 'Nicaragua': 1, 'Honduras': 1, 'Antilles': 1, 'Colombia': 1, 'Cape Verde': 1, 'British Virgin Islands': 1, 'U.S. Virgin Islands': 1, 'Virgin Islands': 1, 'Puerto Rico': 1, 'Dominican Republic': 1, 'Turks and Caicos Islands': 1, 'United States Gulf Coast (especially Florida Panhandle)': 1}\n"
     ]
    }
   ],
   "source": [
    "def area_count(hurricanes):\n",
    "    areas_affected ={}\n",
    "    \n",
    "    for value in hurricanes.values():\n",
    "        for i in value['Areas Affected']:\n",
    "            if i not in areas_affected:\n",
    "                areas_affected[i]=1\n",
    "            else:\n",
    "                areas_affected[i]+=1\n",
    "    return areas_affected\n",
    "\n",
    "areas_affected= area_count(hurricanes)\n",
    "print(areas_affected)"
   ]
  },
  {
   "cell_type": "code",
   "execution_count": 6,
   "metadata": {},
   "outputs": [
    {
     "data": {
      "text/plain": [
       "{'Central America': 9}"
      ]
     },
     "execution_count": 6,
     "metadata": {},
     "output_type": "execute_result"
    }
   ],
   "source": [
    "def max_affected_area(areas_affected):\n",
    "    max_affected={}\n",
    "    count =0\n",
    "    \n",
    "    for key, value in areas_affected.items():\n",
    "        if value>count:\n",
    "            max_affected[key]=value\n",
    "            count = value\n",
    "        return max_affected\n",
    "    \n",
    "max_affected = max_affected_area(areas_affected)\n",
    "max_affected\n",
    "        "
   ]
  },
  {
   "cell_type": "code",
   "execution_count": 7,
   "metadata": {},
   "outputs": [
    {
     "name": "stdout",
     "output_type": "stream",
     "text": [
      "('Cuba I', 90)\n"
     ]
    }
   ],
   "source": [
    "def greatest_deaths(hurricanes):\n",
    "    max_death = ''\n",
    "    count = 0\n",
    "    \n",
    "    for i in hurricanes:\n",
    "        if hurricanes[i][\"Deaths\"]> count:\n",
    "            max_death = i \n",
    "            count = hurricanes[i]['Deaths']\n",
    "            \n",
    "        return max_death, count\n",
    "\n",
    "max_death, count = greatest_deaths(hurricanes)\n",
    "print(greatest_deaths(hurricanes))    "
   ]
  },
  {
   "cell_type": "code",
   "execution_count": 8,
   "metadata": {},
   "outputs": [
    {
     "name": "stdout",
     "output_type": "stream",
     "text": [
      "{0: ['San Felipe II Okeechobee', 'Cuba II', 'Janet', 'David', 'Katrina', 'Maria'], 1: ['Cuba I', 'Bahamas', 'Carol', 'Carla', 'Edith', 'Anita', 'Andrew', 'Isabel', 'Emily', 'Wilma', 'Dean', 'Michael'], 2: ['CubaBrownsville', 'Tampico', 'Labor Day', 'Hattie', 'Camille', 'Allen', 'Gilbert', 'Hugo', 'Ivan', 'Rita', 'Felix', 'Irma'], 3: ['New England', 'Beulah', 'Matthew'], 4: [], 5: ['Mitch']}\n"
     ]
    }
   ],
   "source": [
    "def mort_rate(hurricanes):\n",
    "    mort_rate ={0:[], 1:[],2:[],3:[],4:[],5:[]}\n",
    "    \n",
    "    for i in hurricanes:\n",
    "        count = hurricanes[i]['Deaths']\n",
    "        if count > 10000:\n",
    "            mort_rate[5].append(i)\n",
    "        elif count> 1000 and count<= 1000:\n",
    "            mort_rate[4].append(i)\n",
    "        elif count>500 and count <= 1000:\n",
    "            mort_rate[3].append(i)\n",
    "        elif count>100 and count<=500:\n",
    "            mort_rate[2].append(i)\n",
    "        elif count >0 and count <=100:\n",
    "            mort_rate[1].append(i)\n",
    "        else:\n",
    "            mort_rate[0].append(i)\n",
    "    return mort_rate\n",
    "\n",
    "\n",
    "mort_rate = mort_rate(hurricanes)\n",
    "print(mort_rate)\n",
    "            "
   ]
  },
  {
   "cell_type": "code",
   "execution_count": 9,
   "metadata": {},
   "outputs": [
    {
     "name": "stdout",
     "output_type": "stream",
     "text": [
      "('Katrina', 125000000000.0)\n"
     ]
    }
   ],
   "source": [
    "def max_damage(hurricanes):\n",
    "    damage = 0 \n",
    "    cane = ''\n",
    "    \n",
    "    for i in hurricanes:\n",
    "        if hurricanes[i]['Damage'] == 'Damages not recorded':\n",
    "            pass\n",
    "        elif hurricanes[i]['Damage'] > damage:\n",
    "            damage = hurricanes[i]['Damage']\n",
    "            cane = i\n",
    "    return cane, damage\n",
    "\n",
    "print(max_damage(hurricanes))"
   ]
  },
  {
   "cell_type": "code",
   "execution_count": 15,
   "metadata": {},
   "outputs": [],
   "source": [
    "def damage_scale(hurricanes):\n",
    "    damage_scale = {0: 0,\n",
    "                1: 100000000,\n",
    "                2: 1000000000,\n",
    "                3: 10000000000,\n",
    "                4: 50000000000}\n",
    "    hurricanes_by_damage= {0:[], 1:[], 2:[],3:[],4:[],5:[]}\n",
    "    \n",
    "    for i in hurricanes:\n",
    "        total_damage = hurricanes[i]['Damage']\n",
    "        if total_damage == \"Damages not recorded\":\n",
    "            hurricanes_by_damage[0].append(hurricanes[i])\n",
    "        elif total_damage == damage_scale[0]:\n",
    "            hurricanes_by_damage[0].append(hurricanes[i])\n",
    "        elif total_damage > damage_scale[0] and total_damage<damage_scale[1]:\n",
    "            hurricanes_by_damage[1].append(hurricanes[i])\n",
    "        elif total_damage > damage_scale[1] and total_damage<damage_scale[2]:\n",
    "            hurricanes_by_damage[2].append(hurricanes[i])\n",
    "        elif total_damage > damage_scale[2] and total_damage<damage_scale[3]:\n",
    "            hurricanes_by_damage[3].append(hurricanes[i])\n",
    "        elif total_damage > damage_scale[3] and total_damage<damage_scale[4]:\n",
    "            hurricanes_by_damage[4].append(hurricanes[i])\n",
    "        elif total_damage > damage_scale[4]:\n",
    "            hurricanes_by_damage[5].append(hurricanes[i])\n",
    "    return hurricanes_by_damage \n",
    "\n",
    "dam_scale = damage_scale(hurricanes)"
   ]
  },
  {
   "cell_type": "code",
   "execution_count": null,
   "metadata": {},
   "outputs": [],
   "source": []
  }
 ],
 "metadata": {
  "kernelspec": {
   "display_name": "Python 3",
   "language": "python",
   "name": "python3"
  },
  "language_info": {
   "codemirror_mode": {
    "name": "ipython",
    "version": 3
   },
   "file_extension": ".py",
   "mimetype": "text/x-python",
   "name": "python",
   "nbconvert_exporter": "python",
   "pygments_lexer": "ipython3",
   "version": "3.8.5"
  }
 },
 "nbformat": 4,
 "nbformat_minor": 4
}
